{
 "cells": [
  {
   "cell_type": "code",
   "execution_count": null,
   "metadata": {
    "collapsed": false
   },
   "outputs": [],
   "source": []
  },
  {
   "cell_type": "code",
   "execution_count": 2,
   "metadata": {
    "collapsed": false
   },
   "outputs": [
    {
     "ename": "LoadError",
     "evalue": "input not defined\nwhile loading In[2], in expression starting on line 1",
     "output_type": "error",
     "traceback": [
      "input not defined\nwhile loading In[2], in expression starting on line 1",
      ""
     ]
    }
   ],
   "source": []
  },
  {
   "cell_type": "code",
   "execution_count": 2,
   "metadata": {
    "collapsed": false
   },
   "outputs": [
    {
     "name": "stdout",
     "output_type": "stream",
     "text": [
      "la solucion compleja es:    -0.75 + 1.1989578808281798im\n",
      "y la solucion 2 es: -0.75 - 1.1989578808281798im\n"
     ]
    }
   ],
   "source": [
    "A=2\n",
    "B=3\n",
    "C=4\n",
    "\n",
    "Dis=(B^2-4*A*C)\n",
    "if Dis>0\n",
    "    X1=(-B+sqrt(Dis))/(2.*A)\n",
    "    X2=(-B-sqrt(Dis))/(2.*A)\n",
    "    println(\"la x 1 es:          \",X1);\n",
    "    println(\"y la solucion 2 es: \",X2)\n",
    "    elseif Dis<0\n",
    "    X3=(-B+sqrt(complex(Dis)))/(2.*A)\n",
    "    X4=(-B-sqrt(complex(Dis)))/(2.*A)\n",
    "    println(\"la solucion compleja es:    \",X3);\n",
    "    println(\"y la solucion 2 es: \",X4)\n",
    "    else\n",
    "    print(\"las soluciones son imaginarias\")\n",
    "    end"
   ]
  },
  {
   "cell_type": "code",
   "execution_count": null,
   "metadata": {
    "collapsed": false
   },
   "outputs": [],
   "source": []
  },
  {
   "cell_type": "code",
   "execution_count": 25,
   "metadata": {
    "collapsed": false
   },
   "outputs": [
    {
     "data": {
      "text/plain": [
       "3"
      ]
     },
     "execution_count": 25,
     "metadata": {},
     "output_type": "execute_result"
    }
   ],
   "source": []
  },
  {
   "cell_type": "code",
   "execution_count": null,
   "metadata": {
    "collapsed": true
   },
   "outputs": [],
   "source": []
  },
  {
   "cell_type": "code",
   "execution_count": null,
   "metadata": {
    "collapsed": true
   },
   "outputs": [],
   "source": []
  }
 ],
 "metadata": {
  "kernelspec": {
   "display_name": "Julia 0.3.11",
   "language": "julia",
   "name": "julia-0.3"
  },
  "language_info": {
   "file_extension": ".jl",
   "mimetype": "application/julia",
   "name": "julia",
   "version": "0.3.11"
  }
 },
 "nbformat": 4,
 "nbformat_minor": 0
}
