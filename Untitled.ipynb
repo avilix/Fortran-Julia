{
 "cells": [
  {
   "cell_type": "code",
   "execution_count": null,
   "metadata": {
    "collapsed": true
   },
   "outputs": [],
   "source": [
    "# -*- coding: utf-8 -*-\n",
    "\"\"\"\n",
    "Created on Tue Sep 22 07:41:00 2015\n",
    "\n",
    "@author: est7\n",
    "\"\"\"\n",
    "\n",
    "import numpy as np\n",
    "import matplotlib.pyplot as plt\n",
    "\n",
    "def f(t): #defino la funcion f coo}mo el sin de t\n",
    "    return np.sin(t)\n",
    "\n",
    "def fd(t):\n",
    "    return np.cos(t)\n",
    "\n",
    "def f1(g,t):\n",
    "    return ((g(t[1])-g(t[0]))/(t[1]-t[0]))\n",
    "\n",
    "x=np.arange(0.,5.,0.1)\n",
    "y=np.empty(len(x))\n",
    "y1=np.empty(len(x))\n",
    "yf=np.empty(len(x))\n",
    "yb=np.empty(len(x))\n",
    "yc=np.empty(len(x))\n",
    "\n",
    "for i in range(len(x)):\n",
    "    y[i]= f(x[i])\n",
    "    y1[i]=fd(x[i])\n",
    "\n",
    "for i in range(len(x)-1):\n",
    "    yf[i]=f1(f,x[i:i+2])\n",
    "\n",
    "yf[-1]=0.0\n",
    "yb[0]=0.0\n",
    "yc[0]=0.0\n",
    "\n",
    "for i in range(len(x)-1):\n",
    "    yb[i+1]=f1(f,x[i:i+2])\n",
    "\n",
    "for i in range(1,len(x)-1):\n",
    "    yc[i]=((y[i+1]-y[i-1])/(x[i+1]-x[i-1]))\n",
    "    \n",
    "for i in range(len(x)):\n",
    "    print y1[i],yc[i], yb[i],yf[i]\n",
    "\n",
    "\n",
    "plt.plot(x,y1,\"r-\")\n",
    "plt.plot(x,yf,\"bo\")\n",
    "plt.plot(x,yb,\"yp\")\n",
    "plt.plot(x,yc,\"g-\")\n",
    "plt.show()"
   ]
  },
  {
   "cell_type": "code",
   "execution_count": null,
   "metadata": {
    "collapsed": true
   },
   "outputs": [],
   "source": []
  }
 ],
 "metadata": {
  "kernelspec": {
   "display_name": "Python 2",
   "language": "python",
   "name": "python2"
  },
  "language_info": {
   "codemirror_mode": {
    "name": "ipython",
    "version": 2
   },
   "file_extension": ".py",
   "mimetype": "text/x-python",
   "name": "python",
   "nbconvert_exporter": "python",
   "pygments_lexer": "ipython2",
   "version": "2.7.10"
  }
 },
 "nbformat": 4,
 "nbformat_minor": 0
}
