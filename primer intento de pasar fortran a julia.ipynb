{
 "cells": [
  {
   "cell_type": "code",
   "execution_count": 1,
   "metadata": {
    "collapsed": false
   },
   "outputs": [
    {
     "data": {
      "text/plain": [
       "π = 3.1415926535897..."
      ]
     },
     "execution_count": 1,
     "metadata": {},
     "output_type": "execute_result"
    }
   ],
   "source": [
    "pi\n"
   ]
  },
  {
   "cell_type": "code",
   "execution_count": 2,
   "metadata": {
    "collapsed": false
   },
   "outputs": [
    {
     "ename": "LoadError",
     "evalue": "input not defined\nwhile loading In[2], in expression starting on line 1",
     "output_type": "error",
     "traceback": [
      "input not defined\nwhile loading In[2], in expression starting on line 1",
      ""
     ]
    }
   ],
   "source": []
  },
  {
   "cell_type": "code",
   "execution_count": 4,
   "metadata": {
    "collapsed": false
   },
   "outputs": [
    {
     "ename": "LoadError",
     "evalue": "DomainError\nwhile loading In[4], in expression starting on line 7",
     "output_type": "error",
     "traceback": [
      "DomainError\nwhile loading In[4], in expression starting on line 7",
      "",
      " in sqrt at math.jl:133"
     ]
    }
   ],
   "source": [
    "A=2\n",
    "B=3\n",
    "C=4\n",
    "\n",
    "Dis=(B^2-4*A*C)\n",
    "if Dis>-1e10\n",
    "    X1=-B+sqrt(Dis)/2.*A\n",
    "    X2=-B-sqrt(Dis)/2.*A\n",
    "    println(\"la x 1 es:          \",X1);\n",
    "    println(\"y la solucion 2 es: \",X2)\n",
    "    elseif Dis<-1e10\n",
    "    X3=-B+sqrt(complex(Dis))/2.*A\n",
    "    X4=-B-sqrt(complex(Dis))/2.*A\n",
    "    println(\"la solucion compleja es:    \",X3);\n",
    "    println(\"y la solucion 2 es: \",X4)\n",
    "    else\n",
    "    print(\"las soluciones son imaginarias\")\n",
    "    end"
   ]
  },
  {
   "cell_type": "code",
   "execution_count": 24,
   "metadata": {
    "collapsed": false
   },
   "outputs": [
    {
     "data": {
      "text/plain": [
       "-44"
      ]
     },
     "execution_count": 24,
     "metadata": {},
     "output_type": "execute_result"
    }
   ],
   "source": [
    "Dis"
   ]
  },
  {
   "cell_type": "code",
   "execution_count": 25,
   "metadata": {
    "collapsed": false
   },
   "outputs": [
    {
     "data": {
      "text/plain": [
       "3"
      ]
     },
     "execution_count": 25,
     "metadata": {},
     "output_type": "execute_result"
    }
   ],
   "source": [
    "A"
   ]
  },
  {
   "cell_type": "code",
   "execution_count": null,
   "metadata": {
    "collapsed": true
   },
   "outputs": [],
   "source": []
  },
  {
   "cell_type": "code",
   "execution_count": null,
   "metadata": {
    "collapsed": true
   },
   "outputs": [],
   "source": []
  }
 ],
 "metadata": {
  "kernelspec": {
   "display_name": "Julia 0.3.11",
   "language": "julia",
   "name": "julia-0.3"
  },
  "language_info": {
   "file_extension": ".jl",
   "mimetype": "application/julia",
   "name": "julia",
   "version": "0.3.11"
  }
 },
 "nbformat": 4,
 "nbformat_minor": 0
}
