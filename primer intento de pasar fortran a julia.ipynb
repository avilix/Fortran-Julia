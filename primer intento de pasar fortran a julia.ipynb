{
 "cells": [
  {
   "cell_type": "code",
   "execution_count": null,
   "metadata": {
    "collapsed": false
   },
   "outputs": [],
   "source": []
  },
  {
   "cell_type": "markdown",
   "metadata": {
    "collapsed": false
   },
   "source": []
  },
  {
   "cell_type": "code",
   "execution_count": null,
   "metadata": {
    "collapsed": true
   },
   "outputs": [],
   "source": []
  },
  {
   "cell_type": "code",
   "execution_count": 1,
   "metadata": {
    "collapsed": false
   },
   "outputs": [
    {
     "name": "stdout",
     "output_type": "stream",
     "text": [
      "la solucion compleja es:    -0.8928571428571429 + 1.6656034023372883im\n",
      "y la solucion 2 es: -0.8928571428571429 - 1.6656034023372883im\n"
     ]
    }
   ],
   "source": [
    "A=56\n",
    "B=100\n",
    "C=200\n",
    "\n",
    "Dis=(B^2-4*A*C)\n",
    "if Dis>0\n",
    "    X1=(-B+sqrt(Dis))/(2.*A)\n",
    "    X2=(-B-sqrt(Dis))/(2.*A)\n",
    "    println(\"la x 1 es:          \",X1);\n",
    "    println(\"y la solucion 2 es: \",X2)\n",
    "    elseif Dis<0\n",
    "    X3=(-B+sqrt(complex(Dis)))/(2.*A)\n",
    "    X4=(-B-sqrt(complex(Dis)))/(2.*A)\n",
    "    println(\"la solucion compleja es:    \",X3);\n",
    "    println(\"y la solucion 2 es: \",X4)\n",
    "    else\n",
    "    print(\"las soluciones son imaginarias\")\n",
    "    end"
   ]
  },
  {
   "cell_type": "raw",
   "metadata": {
    "collapsed": false
   },
   "source": []
  },
  {
   "cell_type": "code",
   "execution_count": 25,
   "metadata": {
    "collapsed": false
   },
   "outputs": [
    {
     "data": {
      "text/plain": [
       "3"
      ]
     },
     "execution_count": 25,
     "metadata": {},
     "output_type": "execute_result"
    }
   ],
   "source": []
  },
  {
   "cell_type": "code",
   "execution_count": null,
   "metadata": {
    "collapsed": true
   },
   "outputs": [],
   "source": []
  },
  {
   "cell_type": "code",
   "execution_count": null,
   "metadata": {
    "collapsed": true
   },
   "outputs": [],
   "source": []
  }
 ],
 "metadata": {
  "kernelspec": {
   "display_name": "Julia 0.3.11",
   "language": "julia",
   "name": "julia-0.3"
  },
  "language_info": {
   "file_extension": ".jl",
   "mimetype": "application/julia",
   "name": "julia",
   "version": "0.3.11"
  }
 },
 "nbformat": 4,
 "nbformat_minor": 0
}
